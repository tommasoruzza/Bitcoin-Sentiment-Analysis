{
 "cells": [
  {
   "cell_type": "markdown",
   "metadata": {
    "application/vnd.databricks.v1+cell": {
     "cellMetadata": {},
     "inputWidgets": {},
     "nuid": "b1d0d612-5ef1-4947-998d-f9419d5b55ab",
     "showTitle": false,
     "tableResultSettingsMap": {},
     "title": ""
    }
   },
   "source": [
    "**1. Prerequisites**"
   ]
  },
  {
   "cell_type": "code",
   "execution_count": 0,
   "metadata": {
    "application/vnd.databricks.v1+cell": {
     "cellMetadata": {
      "byteLimit": 2048000,
      "rowLimit": 10000
     },
     "inputWidgets": {},
     "nuid": "227c4745-fb8c-44ef-892c-df869c60942a",
     "showTitle": false,
     "tableResultSettingsMap": {},
     "title": ""
    }
   },
   "outputs": [
    {
     "name": "stdout",
     "output_type": "stream",
     "text": [
      "Requirement already satisfied: nltk in /local_disk0/.ephemeral_nfs/envs/pythonEnv-de67a384-10e9-4385-a528-772ae05f45e3/lib/python3.11/site-packages (3.9.1)\n",
      "Requirement already satisfied: click in /databricks/python3/lib/python3.11/site-packages (from nltk) (8.0.4)\n",
      "Requirement already satisfied: joblib in /databricks/python3/lib/python3.11/site-packages (from nltk) (1.2.0)\n",
      "Requirement already satisfied: regex>=2021.8.3 in /local_disk0/.ephemeral_nfs/envs/pythonEnv-de67a384-10e9-4385-a528-772ae05f45e3/lib/python3.11/site-packages (from nltk) (2024.11.6)\n",
      "Requirement already satisfied: tqdm in /local_disk0/.ephemeral_nfs/envs/pythonEnv-de67a384-10e9-4385-a528-772ae05f45e3/lib/python3.11/site-packages (from nltk) (4.67.1)\n"
     ]
    },
    {
     "name": "stderr",
     "output_type": "stream",
     "text": [
      "\n",
      "\u001b[1m[\u001b[0m\u001b[34;49mnotice\u001b[0m\u001b[1;39;49m]\u001b[0m\u001b[39;49m A new release of pip is available: \u001b[0m\u001b[31;49m23.2.1\u001b[0m\u001b[39;49m -> \u001b[0m\u001b[32;49m24.3.1\u001b[0m\n",
      "\u001b[1m[\u001b[0m\u001b[34;49mnotice\u001b[0m\u001b[1;39;49m]\u001b[0m\u001b[39;49m To update, run: \u001b[0m\u001b[32;49mpip install --upgrade pip\u001b[0m\n"
     ]
    }
   ],
   "source": [
    "%sh pip install nltk"
   ]
  },
  {
   "cell_type": "code",
   "execution_count": 0,
   "metadata": {
    "application/vnd.databricks.v1+cell": {
     "cellMetadata": {
      "byteLimit": 2048000,
      "rowLimit": 10000
     },
     "inputWidgets": {},
     "nuid": "7ede0c56-ca97-40d1-b533-2e07acccd7df",
     "showTitle": false,
     "tableResultSettingsMap": {},
     "title": ""
    }
   },
   "outputs": [
    {
     "name": "stdout",
     "output_type": "stream",
     "text": [
      "Collecting textblob\n",
      "  Obtaining dependency information for textblob from https://files.pythonhosted.org/packages/02/07/5fd2945356dd839974d3a25de8a142dc37293c21315729a41e775b5f3569/textblob-0.18.0.post0-py3-none-any.whl.metadata\n",
      "  Downloading textblob-0.18.0.post0-py3-none-any.whl.metadata (4.5 kB)\n",
      "Requirement already satisfied: nltk>=3.8 in /local_disk0/.ephemeral_nfs/envs/pythonEnv-de67a384-10e9-4385-a528-772ae05f45e3/lib/python3.11/site-packages (from textblob) (3.9.1)\n",
      "Requirement already satisfied: click in /databricks/python3/lib/python3.11/site-packages (from nltk>=3.8->textblob) (8.0.4)\n",
      "Requirement already satisfied: joblib in /databricks/python3/lib/python3.11/site-packages (from nltk>=3.8->textblob) (1.2.0)\n",
      "Requirement already satisfied: regex>=2021.8.3 in /local_disk0/.ephemeral_nfs/envs/pythonEnv-de67a384-10e9-4385-a528-772ae05f45e3/lib/python3.11/site-packages (from nltk>=3.8->textblob) (2024.11.6)\n",
      "Requirement already satisfied: tqdm in /local_disk0/.ephemeral_nfs/envs/pythonEnv-de67a384-10e9-4385-a528-772ae05f45e3/lib/python3.11/site-packages (from nltk>=3.8->textblob) (4.67.1)\n",
      "Downloading textblob-0.18.0.post0-py3-none-any.whl (626 kB)\n",
      "\u001b[?25l   \u001b[90m━━━━━━━━━━━━━━━━━━━━━━━━━━━━━━━━━━━━━━━━\u001b[0m \u001b[32m0.0/626.3 kB\u001b[0m \u001b[31m?\u001b[0m eta \u001b[36m-:--:--\u001b[0m\r",
      "\u001b[2K   \u001b[91m━━━━━━━━━━━━━━━━━━━━━━━━━━━━━━━━━━━━━━━\u001b[0m\u001b[91m╸\u001b[0m \u001b[32m624.6/626.3 kB\u001b[0m \u001b[31m20.4 MB/s\u001b[0m eta \u001b[36m0:00:01\u001b[0m\r",
      "\u001b[2K   \u001b[90m━━━━━━━━━━━━━━━━━━━━━━━━━━━━━━━━━━━━━━━━\u001b[0m \u001b[32m626.3/626.3 kB\u001b[0m \u001b[31m16.1 MB/s\u001b[0m eta \u001b[36m0:00:00\u001b[0m\n",
      "\u001b[?25hInstalling collected packages: textblob\n",
      "Successfully installed textblob-0.18.0.post0\n"
     ]
    },
    {
     "name": "stderr",
     "output_type": "stream",
     "text": [
      "\n",
      "\u001b[1m[\u001b[0m\u001b[34;49mnotice\u001b[0m\u001b[1;39;49m]\u001b[0m\u001b[39;49m A new release of pip is available: \u001b[0m\u001b[31;49m23.2.1\u001b[0m\u001b[39;49m -> \u001b[0m\u001b[32;49m24.3.1\u001b[0m\n",
      "\u001b[1m[\u001b[0m\u001b[34;49mnotice\u001b[0m\u001b[1;39;49m]\u001b[0m\u001b[39;49m To update, run: \u001b[0m\u001b[32;49mpip install --upgrade pip\u001b[0m\n"
     ]
    }
   ],
   "source": [
    "%sh pip install textblob"
   ]
  },
  {
   "cell_type": "code",
   "execution_count": 0,
   "metadata": {
    "application/vnd.databricks.v1+cell": {
     "cellMetadata": {
      "byteLimit": 2048000,
      "rowLimit": 10000
     },
     "inputWidgets": {},
     "nuid": "2c1fe416-1cc9-428f-8094-d6fe8a45f46a",
     "showTitle": false,
     "tableResultSettingsMap": {},
     "title": ""
    }
   },
   "outputs": [
    {
     "name": "stderr",
     "output_type": "stream",
     "text": [
      "[nltk_data] Downloading package stopwords to /root/nltk_data...\n",
      "[nltk_data]   Unzipping corpora/stopwords.zip.\n",
      "[nltk_data] Downloading package wordnet to /root/nltk_data...\n",
      "[nltk_data] Downloading package punkt to /root/nltk_data...\n",
      "[nltk_data]   Unzipping tokenizers/punkt.zip.\n"
     ]
    }
   ],
   "source": [
    "from pyspark.sql import SparkSession\n",
    "from pyspark.sql.window import Window\n",
    "from pyspark.sql import functions as F\n",
    "from pyspark.sql import types as T\n",
    "from pyspark.ml.feature import StopWordsRemover\n",
    "from pyspark.sql.functions import udf\n",
    "from pyspark.sql.functions import corr\n",
    "\n",
    "from textblob import TextBlob\n",
    "\n",
    "import re\n",
    "\n",
    "import nltk\n",
    "from nltk.corpus import stopwords\n",
    "from nltk.stem import WordNetLemmatizer\n",
    "from nltk.tokenize import word_tokenize\n",
    "nltk.download('stopwords') \n",
    "nltk.download('wordnet') \n",
    "nltk.download('punkt') \n",
    "\n",
    "import pandas as pd\n",
    "\n",
    "import matplotlib.pyplot as plt\n",
    "import matplotlib.dates as mdates\n",
    "import seaborn as sns\n",
    "\n",
    "import warnings\n",
    "warnings.filterwarnings('ignore')"
   ]
  },
  {
   "cell_type": "markdown",
   "metadata": {
    "application/vnd.databricks.v1+cell": {
     "cellMetadata": {},
     "inputWidgets": {},
     "nuid": "c93994a4-7efa-4756-a7c4-703f2419c1a3",
     "showTitle": false,
     "tableResultSettingsMap": {},
     "title": ""
    }
   },
   "source": [
    "**2. Preprocessing**"
   ]
  },
  {
   "cell_type": "code",
   "execution_count": 0,
   "metadata": {
    "application/vnd.databricks.v1+cell": {
     "cellMetadata": {
      "byteLimit": 2048000,
      "rowLimit": 10000
     },
     "inputWidgets": {},
     "nuid": "1f72c5ef-e713-494d-b20d-e6877d9887b6",
     "showTitle": false,
     "tableResultSettingsMap": {},
     "title": ""
    }
   },
   "outputs": [],
   "source": [
    "spark = SparkSession.builder \\\n",
    ".appName(\"BitcoinTweets\") \\\n",
    ".getOrCreate()\n",
    "\n",
    "schema = T.StructType([\n",
    "T.StructField(\"id\", T.StringType(), True),\n",
    "T.StructField(\"user\", T.StringType(), True),\n",
    "T.StructField(\"fullname\", T.StringType(), True),\n",
    "T.StructField(\"url\", T.StringType(), True),\n",
    "T.StructField(\"timestamp\", T.TimestampType(), True),\n",
    "T.StructField(\"replies\", T.FloatType(), True),\n",
    "T.StructField(\"likes\", T.FloatType(), True),\n",
    "T.StructField(\"retweets\", T.FloatType(), True),\n",
    "T.StructField(\"text\", T.StringType(), True)\n",
    "])\n",
    "\n",
    "df = spark.read \\\n",
    ".option(\"header\", \"true\") \\\n",
    ".option(\"multiLine\", \"true\") \\\n",
    ".schema(schema) \\\n",
    ".csv(\"/FileStore/tables/bitcoin_tweets.csv\")\n",
    "\n",
    "columns_to_drop = [\"user\", \"fullname\", \"url\"]\n",
    "df = df.drop(*columns_to_drop)\n",
    "\n",
    "df = df.dropna(subset=['timestamp', 'text']).dropDuplicates(['timestamp', 'text'])\n",
    "\n",
    "def clean_text(text):\n",
    "    if text:\n",
    "        text = text.lower().strip()\n",
    "        text = re.sub(r'http\\S+|www\\S+|https\\S+','',text)\n",
    "        text = re.sub(r'@\\w+','',text)\n",
    "        text = re.sub(r'#\\w+','',text)\n",
    "        text = re.sub(r'[^A-Za-z\\s]','',text)\n",
    "        return text.strip()\n",
    "    else:\n",
    "        return None\n",
    "\n",
    "clean_text_udf = F.udf(clean_text, T.StringType())\n",
    "df = df.withColumn(\"cleaned_text\", clean_text_udf(F.col(\"text\")))\n",
    "\n",
    "df = df.dropna(subset=[\"cleaned_text\"]).filter(F.col(\"cleaned_text\") !=\"\")\n",
    "\n",
    "df = df.withColumn(\"cleaned_text_array\",F.split(F.col(\"cleaned_text\"),\" \"))\n",
    "\n",
    "nltk_stopwords = set(stopwords.words('english'))\n",
    "\n",
    "remover = StopWordsRemover(inputCol=\"cleaned_text_array\", outputCol=\"filtered_text\", stopWords=list(nltk_stopwords))\n",
    "\n",
    "df = remover.transform(df)\n",
    "\n",
    "lemmatizer = WordNetLemmatizer()\n",
    "\n",
    "def tokenize_and_lemmatize(text_array):\n",
    "    if text_array:\n",
    "        tokens = [lemmatizer.lemmatize(token) for token in text_array]\n",
    "        lemmatized_text = ' '.join(tokens)\n",
    "        lemmatized_text = re.sub(r'\\s+',' ', lemmatized_text)\n",
    "        return lemmatized_text.strip()\n",
    "    else:\n",
    "        return None\n",
    "\n",
    "tokenize_and_lemmatize_udf = F.udf(tokenize_and_lemmatize, T.StringType())\n",
    "\n",
    "df = df.withColumn(\"lemmatized_text\", tokenize_and_lemmatize_udf(F.col(\"filtered_text\")))\n",
    "\n",
    "output_path = \"/FileStore/tables/cleaned_bitcoin_tweets.csv\"\n",
    "\n",
    "selected_columns = [\"id\",\"timestamp\",\"replies\",\"likes\",\"retweets\",\"lemmatized_text\"]\n",
    "\n",
    "df.select(selected_columns) \\\n",
    "    .write \\\n",
    "    .mode(\"overwrite\") \\\n",
    "    .csv(output_path, header=True)"
   ]
  },
  {
   "cell_type": "markdown",
   "metadata": {
    "application/vnd.databricks.v1+cell": {
     "cellMetadata": {},
     "inputWidgets": {},
     "nuid": "ec472aba-25b6-4408-adea-ffb784b9f62c",
     "showTitle": false,
     "tableResultSettingsMap": {},
     "title": ""
    }
   },
   "source": [
    "**3. Loading DataFrame**"
   ]
  },
  {
   "cell_type": "code",
   "execution_count": 0,
   "metadata": {
    "application/vnd.databricks.v1+cell": {
     "cellMetadata": {
      "byteLimit": 2048000,
      "rowLimit": 10000
     },
     "inputWidgets": {},
     "nuid": "e75995dd-008a-4d18-bc00-ace94bcfb8d2",
     "showTitle": false,
     "tableResultSettingsMap": {},
     "title": ""
    }
   },
   "outputs": [],
   "source": [
    "schema = T.StructType([\n",
    "T.StructField(\"id\", T.StringType(), True),\n",
    "T.StructField(\"timestamp\", T.TimestampType(), True),\n",
    "T.StructField(\"replies\", T.FloatType(), True),\n",
    "T.StructField(\"likes\", T.FloatType(), True),\n",
    "T.StructField(\"retweets\", T.FloatType(), True),\n",
    "T.StructField(\"lemmatized_text\", T.StringType(), True)\n",
    "])\n",
    "\n",
    "df = spark.read \\\n",
    ".option(\"header\", \"true\") \\\n",
    ".option(\"multiLine\", \"true\") \\\n",
    ".schema(schema) \\\n",
    ".csv(\"/FileStore/tables/cleaned_bitcoin_tweets.csv\")"
   ]
  },
  {
   "cell_type": "code",
   "execution_count": 0,
   "metadata": {
    "application/vnd.databricks.v1+cell": {
     "cellMetadata": {
      "byteLimit": 2048000,
      "rowLimit": 10000
     },
     "inputWidgets": {},
     "nuid": "f076e7ff-32a3-4efd-ae41-1a204390e3d0",
     "showTitle": false,
     "tableResultSettingsMap": {},
     "title": ""
    }
   },
   "outputs": [
    {
     "data": {
      "text/html": [
       "<style scoped>\n",
       "  .table-result-container {\n",
       "    max-height: 300px;\n",
       "    overflow: auto;\n",
       "  }\n",
       "  table, th, td {\n",
       "    border: 1px solid black;\n",
       "    border-collapse: collapse;\n",
       "  }\n",
       "  th, td {\n",
       "    padding: 5px;\n",
       "  }\n",
       "  th {\n",
       "    text-align: left;\n",
       "  }\n",
       "</style><div class='table-result-container'><table class='table-result'><thead style='background-color: white'><tr><th>id</th><th>timestamp</th><th>replies</th><th>likes</th><th>retweets</th><th>lemmatized_text</th></tr></thead><tbody><tr><td>4.1385138633886925e+17</td><td>2013-12-20T01:00:34Z</td><td>0.0</td><td>2.0</td><td>2.0</td><td>btc gbp january exchange rate</td></tr><tr><td>6.673650485079572e+17</td><td>2015-11-19T14:33:21Z</td><td>18.0</td><td>304.0</td><td>219.0</td><td>banning bitcoin the picture contains signed bitcoin transaction worth usd joke</td></tr><tr><td>7.35349204168659e+17</td><td>2016-05-25T03:58:07Z</td><td>0.0</td><td>0.0</td><td>0.0</td><td>ethereum price technical analysis resistance</td></tr><tr><td>7.429599385788539e+17</td><td>2016-06-15T04:00:27Z</td><td>0.0</td><td>0.0</td><td>0.0</td><td>ethereum price technical analysis eth sighting</td></tr><tr><td>7.42961283285291e+17</td><td>2016-06-15T04:05:48Z</td><td>0.0</td><td>0.0</td><td>0.0</td><td>ethereum price technical analysis eth sighting</td></tr><tr><td>7.840162893584179e+17</td><td>2016-10-06T11:03:44Z</td><td>0.0</td><td>4.0</td><td>2.0</td><td>first looked bitcoin see video contact</td></tr><tr><td>8.16631546207572e+17</td><td>2017-01-04T12:05:07Z</td><td>0.0</td><td>0.0</td><td>0.0</td><td>cap</td></tr><tr><td>8.250705460188283e+17</td><td>2017-01-27T19:58:41Z</td><td>19.0</td><td>267.0</td><td>155.0</td><td>central banking created debt serfdom simple get changing money changing world bitcoin</td></tr><tr><td>8.67473355905151e+17</td><td>2017-05-24T18:12:19Z</td><td>1.0</td><td>2.0</td><td>0.0</td><td>broke ea thanks japan legislation good day encryption coin holder</td></tr><tr><td>8.679000153892864e+17</td><td>2017-05-25T22:27:43Z</td><td>0.0</td><td>1.0</td><td>0.0</td><td>provide everything thought wanted get value pictwittercomckflxxwdb</td></tr><tr><td>8.719132959802245e+17</td><td>2017-06-06T00:15:03Z</td><td>0.0</td><td>11.0</td><td>9.0</td><td>new time high</td></tr><tr><td>8.920610651896996e+17</td><td>2017-07-31T14:35:06Z</td><td>2.0</td><td>6.0</td><td>2.0</td><td>well temporary stop making withdraws utc utc well temporary stop crediting deposit</td></tr><tr><td>8.954375816383488e+17</td><td>2017-08-09T22:12:10Z</td><td>0.0</td><td>1.0</td><td>0.0</td><td>block time size byte tags</td></tr><tr><td>9.06181724786352e+17</td><td>2017-09-08T15:45:33Z</td><td>3.0</td><td>5.0</td><td>3.0</td><td>china sink bitcoin probably happened today lol</td></tr><tr><td>9.198481184300564e+17</td><td>2017-10-16T08:50:56Z</td><td>76.0</td><td>1746.0</td><td>582.0</td><td>something new live</td></tr><tr><td>9.358629539534234e+17</td><td>2017-11-29T12:28:10Z</td><td>3.0</td><td>130.0</td><td>93.0</td><td>cryptos going off bitcoin btcx alltime high ethereum ethx alltime high litecoin ltcx alltime high</td></tr><tr><td>9.359975208362108e+17</td><td>2017-11-29T21:22:53Z</td><td>0.0</td><td>0.0</td><td>0.0</td><td>stupidly listened u sold bitcoin month later hit im listening wrong people meaning ur panel</td></tr><tr><td>9.376235208210884e+17</td><td>2017-12-04T09:04:02Z</td><td>0.0</td><td>0.0</td><td>0.0</td><td>welcome</td></tr><tr><td>9.376240054015631e+17</td><td>2017-12-04T09:05:57Z</td><td>0.0</td><td>0.0</td><td>0.0</td><td>welcome</td></tr><tr><td>9.400088526192352e+17</td><td>2017-12-10T23:02:29Z</td><td>0.0</td><td>1.0</td><td>3.0</td><td>australia sold aud mln bond avg yield btc</td></tr><tr><td>9.417150386955796e+17</td><td>2017-12-15T16:02:16Z</td><td>1.0</td><td>213.0</td><td>202.0</td><td>movement app preico live contribute preico willl last december est pictwittercomfunonnwj</td></tr><tr><td>9.453063997011764e+17</td><td>2017-12-25T13:53:03Z</td><td>0.0</td><td>0.0</td><td>0.0</td><td>less rea token available dont miss chance get realisto ico end th december pm utc go contribute</td></tr><tr><td>9.49390995652776e+17</td><td>2018-01-05T20:23:46Z</td><td>14.0</td><td>16.0</td><td>7.0</td><td>gecenin anketi yarn len kadar sizce neler olur ankete herkesin katlmasn istiyorum rt yaparsanz daha fazla katlmc olur ne kadar ok fikir kadar ok bilgi demektir</td></tr><tr><td>9.523729765816689e+17</td><td>2018-01-14T01:53:06Z</td><td>0.0</td><td>2.0</td><td>0.0</td><td>btc pictwittercomaovbyttfs</td></tr><tr><td>9.52540472639189e+17</td><td>2018-01-14T12:58:40Z</td><td>6.0</td><td>1.0</td><td>1.0</td><td>sha scrypt</td></tr><tr><td>9.556212205982351e+17</td><td>2018-01-23T01:00:28Z</td><td>0.0</td><td>26.0</td><td>54.0</td><td>bitcoin price one year ago today usd representing increase usd pictwittercomlspirty</td></tr><tr><td>9.603052816190504e+17</td><td>2018-02-04T23:13:15Z</td><td>67.0</td><td>289.0</td><td>124.0</td><td>ebitcoin ebtc winner rd round voting poll joined list tradable token kucoin trader access ebtcbtc ebtceth trading pair deposit opened feb utc trading started feb utc twittercomrgpvwinv</td></tr><tr><td>9.616666248803656e+17</td><td>2018-02-08T18:22:44Z</td><td>23.0</td><td>135.0</td><td>51.0</td><td>thing remember never bad chocolate crash</td></tr><tr><td>9.627612346460284e+17</td><td>2018-02-11T17:52:20Z</td><td>5.0</td><td>27.0</td><td>4.0</td><td>btc camiasnn dikkatineobo oluumu var ancak de direniyor teknik teyidi iin gece bekleyeceiz majr destek olan e kadar yatay krmz izgi kadar pay var geerse ki son saatte denedi potada olur pictwittercomwdwzzuddz</td></tr><tr><td>9.652127021289512e+17</td><td>2018-02-18T12:13:35Z</td><td>3.0</td><td>78.0</td><td>1.0</td><td>novalend ico round bugn saat dasat dan yaplacak maximum nlc satlacakdetayl bilgi makalemizde twittercomiamtihgzhk</td></tr><tr><td>9.66110358342652e+17</td><td>2018-02-21T00:40:33Z</td><td>0.0</td><td>0.0</td><td>1.0</td><td>btc going year opinion game whale play funny accumulate go long opinion</td></tr><tr><td>9.669769864165294e+17</td><td>2018-02-23T09:04:13Z</td><td>47.0</td><td>154.0</td><td>91.0</td><td>herocoinplay available kucoin supported trading pair include playbtc playeth deposit withdraw opened feb utc trading start feb utc twittercomtlprobal</td></tr><tr><td>9.694003619277906e+17</td><td>2018-03-02T01:33:51Z</td><td>0.0</td><td>0.0</td><td>0.0</td><td>el precio actual del bitcoin e de</td></tr><tr><td>9.706762085717484e+17</td><td>2018-03-05T14:03:37Z</td><td>0.0</td><td>2.0</td><td>0.0</td><td>peer peer coin decentralized bitcoin fork since faster second</td></tr><tr><td>9.70677280279216e+17</td><td>2018-03-05T14:07:52Z</td><td>16.0</td><td>186.0</td><td>61.0</td><td>tkyeth tkyneo pair listed march th gmt deposit withdrawal begin march th gmt</td></tr><tr><td>9.751161336940462e+17</td><td>2018-03-17T20:06:17Z</td><td>14.0</td><td>87.0</td><td>12.0</td><td>coinstokens covered latest episode charting crypto cheds wtimesamp btc ltc eth bch</td></tr><tr><td>9.753415947559812e+17</td><td>2018-03-18T11:02:11Z</td><td>19.0</td><td>176.0</td><td>7.0</td><td>saat ye kadar ajandam boalttmaltndolarbtcalt konusunda size dilim dnpelimden geldii kadar yardmc olmak isterim karlnda sizden tek ricam var kendi inancnza gre atatrk tm ehitleri sn dahi olsa kendinizce anpdua edinhazrsanz balayalm</td></tr><tr><td>9.75544005114106e+17</td><td>2018-03-19T00:26:30Z</td><td>5.0</td><td>76.0</td><td>8.0</td><td>live replay available charting crypto cheds episode wtimestamps</td></tr><tr><td>9.79006287584342e+17</td><td>2018-03-28T14:44:22Z</td><td>8.0</td><td>81.0</td><td>57.0</td><td>btc discussing gun violence connects dating violence</td></tr><tr><td>9.83041290026668e+17</td><td>2018-04-08T15:58:02Z</td><td>0.0</td><td>0.0</td><td>0.0</td><td>btc tweets xvg tweets eth tweets trx tweets xrp tweets cointrend twitter</td></tr><tr><td>9.834817350893568e+17</td><td>2018-04-09T21:08:12Z</td><td>1.0</td><td>8.0</td><td>2.0</td><td>server check improvement held kst complete btc eth usdt market transaction temporally suspended order transaction back running stably</td></tr><tr><td>9.843879063441244e+17</td><td>2018-04-12T09:09:00Z</td><td>18.0</td><td>17.0</td><td>0.0</td><td>th wave technically hit slightly higher btc</td></tr><tr><td>9.845555403186872e+17</td><td>2018-04-12T20:15:07Z</td><td>0.0</td><td>0.0</td><td>0.0</td><td>valor de conversin btc b valor de conversin btc u valor de equivalencia u b</td></tr><tr><td>9.850651267504538e+17</td><td>2018-04-14T06:00:02Z</td><td>0.0</td><td>1.0</td><td>0.0</td><td>anlk fiyatlar iin takip edin</td></tr><tr><td>9.851854152408884e+17</td><td>2018-04-14T13:58:01Z</td><td>0.0</td><td>0.0</td><td>0.0</td><td>btc tweets trx tweets xvg tweets eth tweets xrp tweets cointrend twitter</td></tr><tr><td>9.858805008781926e+17</td><td>2018-04-16T12:00:02Z</td><td>0.0</td><td>0.0</td><td>0.0</td><td>btc btc btc btc btc</td></tr><tr><td>9.859560949199012e+17</td><td>2018-04-16T17:00:25Z</td><td>0.0</td><td>0.0</td><td>1.0</td><td>usd eur gbp aud nzd cny chf btc eth tue apr jst</td></tr><tr><td>9.86378781597188e+17</td><td>2018-04-17T21:00:02Z</td><td>0.0</td><td>1.0</td><td>0.0</td><td>btc eth bch</td></tr><tr><td>9.866204818590228e+17</td><td>2018-04-18T13:00:28Z</td><td>0.0</td><td>0.0</td><td>0.0</td><td>korea price time btc krw eth krw xrp krw</td></tr><tr><td>9.86800658941694e+17</td><td>2018-04-19T00:56:25Z</td><td>17.0</td><td>66.0</td><td>8.0</td><td>replay available btc eth ltc xlm icx dbg zrx bnb trx bat eng xvg xrp wan ncash bch</td></tr><tr><td>9.876170614917202e+17</td><td>2018-04-21T07:00:31Z</td><td>0.0</td><td>0.0</td><td>0.0</td><td>usd eur gbp aud nzd cny chf btc eth sat apr jst</td></tr><tr><td>9.88200809526694e+17</td><td>2018-04-22T21:40:07Z</td><td>0.0</td><td>0.0</td><td>1.0</td><td>undefined undefined</td></tr><tr><td>9.88208368220242e+17</td><td>2018-04-22T22:10:09Z</td><td>0.0</td><td>1.0</td><td>0.0</td><td>undefined undefined</td></tr><tr><td>9.88251207402709e+17</td><td>2018-04-23T01:00:23Z</td><td>0.0</td><td>1.0</td><td>0.0</td><td>hr report utc top mentions btc eth ltc bch xrp xvg neo xlm zec xmrpictwittercompfajroccg</td></tr><tr><td>9.889914018274058e+17</td><td>2018-04-25T02:01:39Z</td><td>0.0</td><td>0.0</td><td>0.0</td><td>apr utc pictwittercomdvsntrbx</td></tr><tr><td>9.895521093130528e+17</td><td>2018-04-26T15:09:42Z</td><td>2.0</td><td>0.0</td><td>0.0</td><td>saati poloniex borsasnda btc bandnda en ok ykselen pasc ayrntlar pot sbd sc xrp en ok den via gno vtc xcp str</td></tr><tr><td>9.897272388105504e+17</td><td>2018-04-27T02:45:36Z</td><td>0.0</td><td>0.0</td><td>0.0</td><td>average</td></tr><tr><td>9.90304657040814e+17</td><td>2018-04-28T17:00:03Z</td><td>0.0</td><td>0.0</td><td>0.0</td><td>zaif</td></tr><tr><td>9.903614472418304e+17</td><td>2018-04-28T20:45:43Z</td><td>4.0</td><td>1.0</td><td>0.0</td><td>bitcoin dollar bitcoin cash dollar ethereum dollar ripple dollar date apr</td></tr><tr><td>9.918447997276529e+17</td><td>2018-05-02T23:00:02Z</td><td>0.0</td><td>0.0</td><td>0.0</td><td>anlk fiyatlar iin takip edin</td></tr><tr><td>9.918753160280924e+17</td><td>2018-05-03T01:01:18Z</td><td>0.0</td><td>2.0</td><td>1.0</td><td>mentioned coin last hour btc eth ont trx ltc bch ocn icx xrp eospictwittercomaaqxxpdjw</td></tr><tr><td>9.922112959560212e+17</td><td>2018-05-03T23:16:22Z</td><td>0.0</td><td>0.0</td><td>0.0</td><td>average</td></tr><tr><td>9.92430300490748e+17</td><td>2018-05-04T13:46:36Z</td><td>0.0</td><td>0.0</td><td>0.0</td><td>korea price time btc krw eth krw xrp krw</td></tr><tr><td>9.93825462173528e+17</td><td>2018-05-08T10:10:29Z</td><td>0.0</td><td>4.0</td><td>2.0</td><td>launch later october utc coming soon day first learn launch development ventureon</td></tr><tr><td>9.94154516755792e+17</td><td>2018-05-09T07:58:01Z</td><td>0.0</td><td>1.0</td><td>0.0</td><td>btc tweets onion tweets trx tweets eth tweets xvg tweets cointrend twitter</td></tr><tr><td>9.942565002299474e+17</td><td>2018-05-09T14:43:16Z</td><td>0.0</td><td>1.0</td><td>0.0</td><td>bitcoin cash move crypto daily press release pictwittercomodajcqywmo</td></tr><tr><td>9.944072501429166e+17</td><td>2018-05-10T00:42:18Z</td><td>1.0</td><td>0.0</td><td>0.0</td><td>average</td></tr><tr><td>9.966769156490158e+17</td><td>2018-05-16T07:01:08Z</td><td>0.0</td><td>0.0</td><td>0.0</td><td>may utc pictwittercomcgrdvvfu</td></tr><tr><td>9.969041945977078e+17</td><td>2018-05-16T22:04:16Z</td><td>8.0</td><td>92.0</td><td>4.0</td><td>btcbitcoin yatrmclar nin zerine kendisini atmas bu sefer daha farkl bir anlam tayabilir bugn e kadar ki seyrini izlemekte fayda var</td></tr><tr><td>9.973493068048998e+17</td><td>2018-05-18T03:32:59Z</td><td>0.0</td><td>1.0</td><td>0.0</td><td>average</td></tr><tr><td>9.975791282987704e+17</td><td>2018-05-18T18:46:12Z</td><td>3.0</td><td>62.0</td><td>8.0</td><td>cumartesi akam saat te hocamzla birlikte te btc nin son durumu ile ilgili yaynda olacaz</td></tr><tr><td>9.982562386045706e+17</td><td>2018-05-20T15:36:48Z</td><td>0.0</td><td>0.0</td><td>0.0</td><td>bitcoin dollar bitcoin cash dollar ethereum dollar ripple dollar date may</td></tr><tr><td>9.991989060377518e+17</td><td>2018-05-23T06:02:38Z</td><td>0.0</td><td>3.0</td><td>1.0</td><td>next game available odds intersted get money contact u whatappnumber twittercomgotnco</td></tr><tr><td>9.994398495255142e+17</td><td>2018-05-23T22:00:03Z</td><td>0.0</td><td>1.0</td><td>0.0</td><td>ltc worth btc</td></tr><tr><td>1.0027315640720876e+18</td><td>2018-06-02T00:00:09Z</td><td>0.0</td><td>2.0</td><td>0.0</td><td>total market cap btc btc dominance update time gmt</td></tr><tr><td>1.005572854824493e+18</td><td>2018-06-09T20:10:25Z</td><td>0.0</td><td>1.0</td><td>0.0</td><td>bitcoin dollar bitcoin cash dollar ethereum dollar ripple dollar date jun</td></tr><tr><td>1.0055820019975823e+18</td><td>2018-06-09T20:46:46Z</td><td>0.0</td><td>0.0</td><td>0.0</td><td>bitcoin dollar bitcoin cash dollar ethereum dollar ripple dollar date jun</td></tr><tr><td>1.005781124562342e+18</td><td>2018-06-10T09:58:01Z</td><td>0.0</td><td>2.0</td><td>0.0</td><td>btc tweets trx tweets eth tweets xrp tweets eos tweets cointrend twitter</td></tr><tr><td>1.0079560011806065e+18</td><td>2018-06-16T10:00:12Z</td><td>0.0</td><td>0.0</td><td>0.0</td><td>btc brl em</td></tr><tr><td>1.0083183463187948e+18</td><td>2018-06-17T10:00:02Z</td><td>0.0</td><td>0.0</td><td>0.0</td><td>anlk fiyatlar iin takip edin</td></tr><tr><td>1.0106288059862671e+18</td><td>2018-06-23T19:00:58Z</td><td>0.0</td><td>0.0</td><td>0.0</td><td>top gainer alert time</td></tr><tr><td>1.0106454245022392e+18</td><td>2018-06-23T20:07:00Z</td><td>0.0</td><td>0.0</td><td>0.0</td><td>korea price time btc krw eth krw xrp krw</td></tr><tr><td>1.0109912231742546e+18</td><td>2018-06-24T19:01:05Z</td><td>0.0</td><td>0.0</td><td>0.0</td><td>top gainer alert time</td></tr><tr><td>1.0112778588853412e+18</td><td>2018-06-25T14:00:04Z</td><td>0.0</td><td>2.0</td><td>1.0</td><td>doge xp btc xp xp</td></tr><tr><td>1.0115196756861828e+18</td><td>2018-06-26T06:00:58Z</td><td>0.0</td><td>0.0</td><td>0.0</td><td>top alert time</td></tr><tr><td>1.011641263551021e+18</td><td>2018-06-26T14:04:07Z</td><td>0.0</td><td>0.0</td><td>0.0</td><td>la valoracin actual del e de</td></tr><tr><td>1.0119120271184732e+18</td><td>2018-06-27T08:00:02Z</td><td>0.0</td><td>0.0</td><td>0.0</td><td>btc brl em</td></tr><tr><td>1.0123343080092058e+18</td><td>2018-06-28T11:58:01Z</td><td>0.0</td><td>0.0</td><td>0.0</td><td>btc tweets trx tweets eth tweets xrp tweets xmr tweets cointrend twitter</td></tr><tr><td>1.0131803947143864e+18</td><td>2018-06-30T20:00:04Z</td><td>0.0</td><td>0.0</td><td>0.0</td><td>price h h d market cap</td></tr><tr><td>1.0131955082638582e+18</td><td>2018-06-30T21:00:08Z</td><td>0.0</td><td>1.0</td><td>0.0</td><td>market timeframe june utc technical analysis</td></tr><tr><td>1.0132709742029292e+18</td><td>2018-07-01T02:00:00Z</td><td>0.0</td><td>0.0</td><td>1.0</td><td>bitcoin ethereum xrp bitcoin cash eos litecoin stellar cardano iota tether</td></tr><tr><td>1.0134035502426932e+18</td><td>2018-07-01T10:46:49Z</td><td>1.0</td><td>0.0</td><td>0.0</td><td>etxmairdrop token token referral</td></tr><tr><td>1.0142647434256916e+18</td><td>2018-07-03T19:48:53Z</td><td>1.0</td><td>9.0</td><td>0.0</td><td>crypto bitcoin looking good start july kash look like there still tank hive looking soon dash cybx cryp get halt time thing</td></tr><tr><td>1.0142978912744038e+18</td><td>2018-07-03T22:00:36Z</td><td>0.0</td><td>0.0</td><td>0.0</td><td>bitcoin dollar bitcoin cash dollar ethereum dollar ripple dollar date jul</td></tr><tr><td>1.0152149579008124e+18</td><td>2018-07-06T10:44:42Z</td><td>1.0</td><td>3.0</td><td>0.0</td><td>next game available odds intersted get money contact u whatappnumber twittercomrtzwkoeq</td></tr><tr><td>1.015218871651926e+18</td><td>2018-07-06T11:00:15Z</td><td>0.0</td><td>2.0</td><td>0.0</td><td>total market cap btc btc dominance update time gmt</td></tr><tr><td>1.0158832124495668e+18</td><td>2018-07-08T07:00:06Z</td><td>0.0</td><td>0.0</td><td>0.0</td><td>utc btc bch eth zec ltc etc xrp</td></tr><tr><td>1.0158872921567846e+18</td><td>2018-07-08T07:16:19Z</td><td>0.0</td><td>0.0</td><td>0.0</td><td>etxmairdrop token token referral</td></tr><tr><td>1.0178766426545724e+18</td><td>2018-07-13T19:01:17Z</td><td>0.0</td><td>0.0</td><td>0.0</td><td>top gainer alert time db</td></tr><tr><td>1.0183142203609128e+18</td><td>2018-07-15T00:00:04Z</td><td>0.0</td><td>2.0</td><td>0.0</td><td>price analysis last hour change price price new price rank</td></tr></tbody></table></div>"
      ]
     },
     "metadata": {
      "application/vnd.databricks.v1+output": {
       "addedWidgets": {},
       "aggData": [],
       "aggError": "",
       "aggOverflow": false,
       "aggSchema": [],
       "aggSeriesLimitReached": false,
       "aggType": "",
       "arguments": {},
       "columnCustomDisplayInfos": {},
       "data": [
        [
         "4.1385138633886925e+17",
         "2013-12-20T01:00:34Z",
         0,
         2,
         2,
         "btc gbp january exchange rate"
        ],
        [
         "6.673650485079572e+17",
         "2015-11-19T14:33:21Z",
         18,
         304,
         219,
         "banning bitcoin the picture contains signed bitcoin transaction worth usd joke"
        ],
        [
         "7.35349204168659e+17",
         "2016-05-25T03:58:07Z",
         0,
         0,
         0,
         "ethereum price technical analysis resistance"
        ],
        [
         "7.429599385788539e+17",
         "2016-06-15T04:00:27Z",
         0,
         0,
         0,
         "ethereum price technical analysis eth sighting"
        ],
        [
         "7.42961283285291e+17",
         "2016-06-15T04:05:48Z",
         0,
         0,
         0,
         "ethereum price technical analysis eth sighting"
        ],
        [
         "7.840162893584179e+17",
         "2016-10-06T11:03:44Z",
         0,
         4,
         2,
         "first looked bitcoin see video contact"
        ],
        [
         "8.16631546207572e+17",
         "2017-01-04T12:05:07Z",
         0,
         0,
         0,
         "cap"
        ],
        [
         "8.250705460188283e+17",
         "2017-01-27T19:58:41Z",
         19,
         267,
         155,
         "central banking created debt serfdom simple get changing money changing world bitcoin"
        ],
        [
         "8.67473355905151e+17",
         "2017-05-24T18:12:19Z",
         1,
         2,
         0,
         "broke ea thanks japan legislation good day encryption coin holder"
        ],
        [
         "8.679000153892864e+17",
         "2017-05-25T22:27:43Z",
         0,
         1,
         0,
         "provide everything thought wanted get value pictwittercomckflxxwdb"
        ],
        [
         "8.719132959802245e+17",
         "2017-06-06T00:15:03Z",
         0,
         11,
         9,
         "new time high"
        ],
        [
         "8.920610651896996e+17",
         "2017-07-31T14:35:06Z",
         2,
         6,
         2,
         "well temporary stop making withdraws utc utc well temporary stop crediting deposit"
        ],
        [
         "8.954375816383488e+17",
         "2017-08-09T22:12:10Z",
         0,
         1,
         0,
         "block time size byte tags"
        ],
        [
         "9.06181724786352e+17",
         "2017-09-08T15:45:33Z",
         3,
         5,
         3,
         "china sink bitcoin probably happened today lol"
        ],
        [
         "9.198481184300564e+17",
         "2017-10-16T08:50:56Z",
         76,
         1746,
         582,
         "something new live"
        ],
        [
         "9.358629539534234e+17",
         "2017-11-29T12:28:10Z",
         3,
         130,
         93,
         "cryptos going off bitcoin btcx alltime high ethereum ethx alltime high litecoin ltcx alltime high"
        ],
        [
         "9.359975208362108e+17",
         "2017-11-29T21:22:53Z",
         0,
         0,
         0,
         "stupidly listened u sold bitcoin month later hit im listening wrong people meaning ur panel"
        ],
        [
         "9.376235208210884e+17",
         "2017-12-04T09:04:02Z",
         0,
         0,
         0,
         "welcome"
        ],
        [
         "9.376240054015631e+17",
         "2017-12-04T09:05:57Z",
         0,
         0,
         0,
         "welcome"
        ],
        [
         "9.400088526192352e+17",
         "2017-12-10T23:02:29Z",
         0,
         1,
         3,
         "australia sold aud mln bond avg yield btc"
        ],
        [
         "9.417150386955796e+17",
         "2017-12-15T16:02:16Z",
         1,
         213,
         202,
         "movement app preico live contribute preico willl last december est pictwittercomfunonnwj"
        ],
        [
         "9.453063997011764e+17",
         "2017-12-25T13:53:03Z",
         0,
         0,
         0,
         "less rea token available dont miss chance get realisto ico end th december pm utc go contribute"
        ],
        [
         "9.49390995652776e+17",
         "2018-01-05T20:23:46Z",
         14,
         16,
         7,
         "gecenin anketi yarn len kadar sizce neler olur ankete herkesin katlmasn istiyorum rt yaparsanz daha fazla katlmc olur ne kadar ok fikir kadar ok bilgi demektir"
        ],
        [
         "9.523729765816689e+17",
         "2018-01-14T01:53:06Z",
         0,
         2,
         0,
         "btc pictwittercomaovbyttfs"
        ],
        [
         "9.52540472639189e+17",
         "2018-01-14T12:58:40Z",
         6,
         1,
         1,
         "sha scrypt"
        ],
        [
         "9.556212205982351e+17",
         "2018-01-23T01:00:28Z",
         0,
         26,
         54,
         "bitcoin price one year ago today usd representing increase usd pictwittercomlspirty"
        ],
        [
         "9.603052816190504e+17",
         "2018-02-04T23:13:15Z",
         67,
         289,
         124,
         "ebitcoin ebtc winner rd round voting poll joined list tradable token kucoin trader access ebtcbtc ebtceth trading pair deposit opened feb utc trading started feb utc twittercomrgpvwinv"
        ],
        [
         "9.616666248803656e+17",
         "2018-02-08T18:22:44Z",
         23,
         135,
         51,
         "thing remember never bad chocolate crash"
        ],
        [
         "9.627612346460284e+17",
         "2018-02-11T17:52:20Z",
         5,
         27,
         4,
         "btc camiasnn dikkatineobo oluumu var ancak de direniyor teknik teyidi iin gece bekleyeceiz majr destek olan e kadar yatay krmz izgi kadar pay var geerse ki son saatte denedi potada olur pictwittercomwdwzzuddz"
        ],
        [
         "9.652127021289512e+17",
         "2018-02-18T12:13:35Z",
         3,
         78,
         1,
         "novalend ico round bugn saat dasat dan yaplacak maximum nlc satlacakdetayl bilgi makalemizde twittercomiamtihgzhk"
        ],
        [
         "9.66110358342652e+17",
         "2018-02-21T00:40:33Z",
         0,
         0,
         1,
         "btc going year opinion game whale play funny accumulate go long opinion"
        ],
        [
         "9.669769864165294e+17",
         "2018-02-23T09:04:13Z",
         47,
         154,
         91,
         "herocoinplay available kucoin supported trading pair include playbtc playeth deposit withdraw opened feb utc trading start feb utc twittercomtlprobal"
        ],
        [
         "9.694003619277906e+17",
         "2018-03-02T01:33:51Z",
         0,
         0,
         0,
         "el precio actual del bitcoin e de"
        ],
        [
         "9.706762085717484e+17",
         "2018-03-05T14:03:37Z",
         0,
         2,
         0,
         "peer peer coin decentralized bitcoin fork since faster second"
        ],
        [
         "9.70677280279216e+17",
         "2018-03-05T14:07:52Z",
         16,
         186,
         61,
         "tkyeth tkyneo pair listed march th gmt deposit withdrawal begin march th gmt"
        ],
        [
         "9.751161336940462e+17",
         "2018-03-17T20:06:17Z",
         14,
         87,
         12,
         "coinstokens covered latest episode charting crypto cheds wtimesamp btc ltc eth bch"
        ],
        [
         "9.753415947559812e+17",
         "2018-03-18T11:02:11Z",
         19,
         176,
         7,
         "saat ye kadar ajandam boalttmaltndolarbtcalt konusunda size dilim dnpelimden geldii kadar yardmc olmak isterim karlnda sizden tek ricam var kendi inancnza gre atatrk tm ehitleri sn dahi olsa kendinizce anpdua edinhazrsanz balayalm"
        ],
        [
         "9.75544005114106e+17",
         "2018-03-19T00:26:30Z",
         5,
         76,
         8,
         "live replay available charting crypto cheds episode wtimestamps"
        ],
        [
         "9.79006287584342e+17",
         "2018-03-28T14:44:22Z",
         8,
         81,
         57,
         "btc discussing gun violence connects dating violence"
        ],
        [
         "9.83041290026668e+17",
         "2018-04-08T15:58:02Z",
         0,
         0,
         0,
         "btc tweets xvg tweets eth tweets trx tweets xrp tweets cointrend twitter"
        ],
        [
         "9.834817350893568e+17",
         "2018-04-09T21:08:12Z",
         1,
         8,
         2,
         "server check improvement held kst complete btc eth usdt market transaction temporally suspended order transaction back running stably"
        ],
        [
         "9.843879063441244e+17",
         "2018-04-12T09:09:00Z",
         18,
         17,
         0,
         "th wave technically hit slightly higher btc"
        ],
        [
         "9.845555403186872e+17",
         "2018-04-12T20:15:07Z",
         0,
         0,
         0,
         "valor de conversin btc b valor de conversin btc u valor de equivalencia u b"
        ],
        [
         "9.850651267504538e+17",
         "2018-04-14T06:00:02Z",
         0,
         1,
         0,
         "anlk fiyatlar iin takip edin"
        ],
        [
         "9.851854152408884e+17",
         "2018-04-14T13:58:01Z",
         0,
         0,
         0,
         "btc tweets trx tweets xvg tweets eth tweets xrp tweets cointrend twitter"
        ],
        [
         "9.858805008781926e+17",
         "2018-04-16T12:00:02Z",
         0,
         0,
         0,
         "btc btc btc btc btc"
        ],
        [
         "9.859560949199012e+17",
         "2018-04-16T17:00:25Z",
         0,
         0,
         1,
         "usd eur gbp aud nzd cny chf btc eth tue apr jst"
        ],
        [
         "9.86378781597188e+17",
         "2018-04-17T21:00:02Z",
         0,
         1,
         0,
         "btc eth bch"
        ],
        [
         "9.866204818590228e+17",
         "2018-04-18T13:00:28Z",
         0,
         0,
         0,
         "korea price time btc krw eth krw xrp krw"
        ],
        [
         "9.86800658941694e+17",
         "2018-04-19T00:56:25Z",
         17,
         66,
         8,
         "replay available btc eth ltc xlm icx dbg zrx bnb trx bat eng xvg xrp wan ncash bch"
        ],
        [
         "9.876170614917202e+17",
         "2018-04-21T07:00:31Z",
         0,
         0,
         0,
         "usd eur gbp aud nzd cny chf btc eth sat apr jst"
        ],
        [
         "9.88200809526694e+17",
         "2018-04-22T21:40:07Z",
         0,
         0,
         1,
         "undefined undefined"
        ],
        [
         "9.88208368220242e+17",
         "2018-04-22T22:10:09Z",
         0,
         1,
         0,
         "undefined undefined"
        ],
        [
         "9.88251207402709e+17",
         "2018-04-23T01:00:23Z",
         0,
         1,
         0,
         "hr report utc top mentions btc eth ltc bch xrp xvg neo xlm zec xmrpictwittercompfajroccg"
        ],
        [
         "9.889914018274058e+17",
         "2018-04-25T02:01:39Z",
         0,
         0,
         0,
         "apr utc pictwittercomdvsntrbx"
        ],
        [
         "9.895521093130528e+17",
         "2018-04-26T15:09:42Z",
         2,
         0,
         0,
         "saati poloniex borsasnda btc bandnda en ok ykselen pasc ayrntlar pot sbd sc xrp en ok den via gno vtc xcp str"
        ],
        [
         "9.897272388105504e+17",
         "2018-04-27T02:45:36Z",
         0,
         0,
         0,
         "average"
        ],
        [
         "9.90304657040814e+17",
         "2018-04-28T17:00:03Z",
         0,
         0,
         0,
         "zaif"
        ],
        [
         "9.903614472418304e+17",
         "2018-04-28T20:45:43Z",
         4,
         1,
         0,
         "bitcoin dollar bitcoin cash dollar ethereum dollar ripple dollar date apr"
        ],
        [
         "9.918447997276529e+17",
         "2018-05-02T23:00:02Z",
         0,
         0,
         0,
         "anlk fiyatlar iin takip edin"
        ],
        [
         "9.918753160280924e+17",
         "2018-05-03T01:01:18Z",
         0,
         2,
         1,
         "mentioned coin last hour btc eth ont trx ltc bch ocn icx xrp eospictwittercomaaqxxpdjw"
        ],
        [
         "9.922112959560212e+17",
         "2018-05-03T23:16:22Z",
         0,
         0,
         0,
         "average"
        ],
        [
         "9.92430300490748e+17",
         "2018-05-04T13:46:36Z",
         0,
         0,
         0,
         "korea price time btc krw eth krw xrp krw"
        ],
        [
         "9.93825462173528e+17",
         "2018-05-08T10:10:29Z",
         0,
         4,
         2,
         "launch later october utc coming soon day first learn launch development ventureon"
        ],
        [
         "9.94154516755792e+17",
         "2018-05-09T07:58:01Z",
         0,
         1,
         0,
         "btc tweets onion tweets trx tweets eth tweets xvg tweets cointrend twitter"
        ],
        [
         "9.942565002299474e+17",
         "2018-05-09T14:43:16Z",
         0,
         1,
         0,
         "bitcoin cash move crypto daily press release pictwittercomodajcqywmo"
        ],
        [
         "9.944072501429166e+17",
         "2018-05-10T00:42:18Z",
         1,
         0,
         0,
         "average"
        ],
        [
         "9.966769156490158e+17",
         "2018-05-16T07:01:08Z",
         0,
         0,
         0,
         "may utc pictwittercomcgrdvvfu"
        ],
        [
         "9.969041945977078e+17",
         "2018-05-16T22:04:16Z",
         8,
         92,
         4,
         "btcbitcoin yatrmclar nin zerine kendisini atmas bu sefer daha farkl bir anlam tayabilir bugn e kadar ki seyrini izlemekte fayda var"
        ],
        [
         "9.973493068048998e+17",
         "2018-05-18T03:32:59Z",
         0,
         1,
         0,
         "average"
        ],
        [
         "9.975791282987704e+17",
         "2018-05-18T18:46:12Z",
         3,
         62,
         8,
         "cumartesi akam saat te hocamzla birlikte te btc nin son durumu ile ilgili yaynda olacaz"
        ],
        [
         "9.982562386045706e+17",
         "2018-05-20T15:36:48Z",
         0,
         0,
         0,
         "bitcoin dollar bitcoin cash dollar ethereum dollar ripple dollar date may"
        ],
        [
         "9.991989060377518e+17",
         "2018-05-23T06:02:38Z",
         0,
         3,
         1,
         "next game available odds intersted get money contact u whatappnumber twittercomgotnco"
        ],
        [
         "9.994398495255142e+17",
         "2018-05-23T22:00:03Z",
         0,
         1,
         0,
         "ltc worth btc"
        ],
        [
         "1.0027315640720876e+18",
         "2018-06-02T00:00:09Z",
         0,
         2,
         0,
         "total market cap btc btc dominance update time gmt"
        ],
        [
         "1.005572854824493e+18",
         "2018-06-09T20:10:25Z",
         0,
         1,
         0,
         "bitcoin dollar bitcoin cash dollar ethereum dollar ripple dollar date jun"
        ],
        [
         "1.0055820019975823e+18",
         "2018-06-09T20:46:46Z",
         0,
         0,
         0,
         "bitcoin dollar bitcoin cash dollar ethereum dollar ripple dollar date jun"
        ],
        [
         "1.005781124562342e+18",
         "2018-06-10T09:58:01Z",
         0,
         2,
         0,
         "btc tweets trx tweets eth tweets xrp tweets eos tweets cointrend twitter"
        ],
        [
         "1.0079560011806065e+18",
         "2018-06-16T10:00:12Z",
         0,
         0,
         0,
         "btc brl em"
        ],
        [
         "1.0083183463187948e+18",
         "2018-06-17T10:00:02Z",
         0,
         0,
         0,
         "anlk fiyatlar iin takip edin"
        ],
        [
         "1.0106288059862671e+18",
         "2018-06-23T19:00:58Z",
         0,
         0,
         0,
         "top gainer alert time"
        ],
        [
         "1.0106454245022392e+18",
         "2018-06-23T20:07:00Z",
         0,
         0,
         0,
         "korea price time btc krw eth krw xrp krw"
        ],
        [
         "1.0109912231742546e+18",
         "2018-06-24T19:01:05Z",
         0,
         0,
         0,
         "top gainer alert time"
        ],
        [
         "1.0112778588853412e+18",
         "2018-06-25T14:00:04Z",
         0,
         2,
         1,
         "doge xp btc xp xp"
        ],
        [
         "1.0115196756861828e+18",
         "2018-06-26T06:00:58Z",
         0,
         0,
         0,
         "top alert time"
        ],
        [
         "1.011641263551021e+18",
         "2018-06-26T14:04:07Z",
         0,
         0,
         0,
         "la valoracin actual del e de"
        ],
        [
         "1.0119120271184732e+18",
         "2018-06-27T08:00:02Z",
         0,
         0,
         0,
         "btc brl em"
        ],
        [
         "1.0123343080092058e+18",
         "2018-06-28T11:58:01Z",
         0,
         0,
         0,
         "btc tweets trx tweets eth tweets xrp tweets xmr tweets cointrend twitter"
        ],
        [
         "1.0131803947143864e+18",
         "2018-06-30T20:00:04Z",
         0,
         0,
         0,
         "price h h d market cap"
        ],
        [
         "1.0131955082638582e+18",
         "2018-06-30T21:00:08Z",
         0,
         1,
         0,
         "market timeframe june utc technical analysis"
        ],
        [
         "1.0132709742029292e+18",
         "2018-07-01T02:00:00Z",
         0,
         0,
         1,
         "bitcoin ethereum xrp bitcoin cash eos litecoin stellar cardano iota tether"
        ],
        [
         "1.0134035502426932e+18",
         "2018-07-01T10:46:49Z",
         1,
         0,
         0,
         "etxmairdrop token token referral"
        ],
        [
         "1.0142647434256916e+18",
         "2018-07-03T19:48:53Z",
         1,
         9,
         0,
         "crypto bitcoin looking good start july kash look like there still tank hive looking soon dash cybx cryp get halt time thing"
        ],
        [
         "1.0142978912744038e+18",
         "2018-07-03T22:00:36Z",
         0,
         0,
         0,
         "bitcoin dollar bitcoin cash dollar ethereum dollar ripple dollar date jul"
        ],
        [
         "1.0152149579008124e+18",
         "2018-07-06T10:44:42Z",
         1,
         3,
         0,
         "next game available odds intersted get money contact u whatappnumber twittercomrtzwkoeq"
        ],
        [
         "1.015218871651926e+18",
         "2018-07-06T11:00:15Z",
         0,
         2,
         0,
         "total market cap btc btc dominance update time gmt"
        ],
        [
         "1.0158832124495668e+18",
         "2018-07-08T07:00:06Z",
         0,
         0,
         0,
         "utc btc bch eth zec ltc etc xrp"
        ],
        [
         "1.0158872921567846e+18",
         "2018-07-08T07:16:19Z",
         0,
         0,
         0,
         "etxmairdrop token token referral"
        ],
        [
         "1.0178766426545724e+18",
         "2018-07-13T19:01:17Z",
         0,
         0,
         0,
         "top gainer alert time db"
        ],
        [
         "1.0183142203609128e+18",
         "2018-07-15T00:00:04Z",
         0,
         2,
         0,
         "price analysis last hour change price price new price rank"
        ]
       ],
       "datasetInfos": [],
       "dbfsResultPath": null,
       "isJsonSchema": true,
       "metadata": {},
       "overflow": false,
       "plotOptions": {
        "customPlotOptions": {},
        "displayType": "table",
        "pivotAggregation": null,
        "pivotColumns": null,
        "xColumns": null,
        "yColumns": null
       },
       "removedWidgets": [],
       "schema": [
        {
         "metadata": "{}",
         "name": "id",
         "type": "\"string\""
        },
        {
         "metadata": "{}",
         "name": "timestamp",
         "type": "\"timestamp\""
        },
        {
         "metadata": "{}",
         "name": "replies",
         "type": "\"float\""
        },
        {
         "metadata": "{}",
         "name": "likes",
         "type": "\"float\""
        },
        {
         "metadata": "{}",
         "name": "retweets",
         "type": "\"float\""
        },
        {
         "metadata": "{}",
         "name": "lemmatized_text",
         "type": "\"string\""
        }
       ],
       "type": "table"
      }
     },
     "output_type": "display_data"
    }
   ],
   "source": [
    "display(df.limit(100))"
   ]
  },
  {
   "cell_type": "markdown",
   "metadata": {
    "application/vnd.databricks.v1+cell": {
     "cellMetadata": {},
     "inputWidgets": {},
     "nuid": "c4918fb4-7aad-44ac-a1b4-c191294d389d",
     "showTitle": false,
     "tableResultSettingsMap": {},
     "title": ""
    }
   },
   "source": [
    "**4. Sentiment Analysis**"
   ]
  },
  {
   "cell_type": "code",
   "execution_count": 0,
   "metadata": {
    "application/vnd.databricks.v1+cell": {
     "cellMetadata": {
      "byteLimit": 2048000,
      "rowLimit": 10000
     },
     "inputWidgets": {},
     "nuid": "179b366f-cc8e-4db7-ae74-5c3f8b809abc",
     "showTitle": false,
     "tableResultSettingsMap": {},
     "title": ""
    }
   },
   "outputs": [
    {
     "name": "stdout",
     "output_type": "stream",
     "text": [
      "+--------------------+-------------------+-------+------+--------+--------------------+---------+----------+\n",
      "|                  id|          timestamp|replies| likes|retweets|     lemmatized_text|sentiment|      date|\n",
      "+--------------------+-------------------+-------+------+--------+--------------------+---------+----------+\n",
      "|4.138513863388692...|2013-12-20 01:00:34|    0.0|   2.0|     2.0|btc gbp january e...|  neutral|2013-12-20|\n",
      "|6.673650485079572...|2015-11-19 14:33:21|   18.0| 304.0|   219.0|banning bitcoin t...| positive|2015-11-19|\n",
      "|7.35349204168659e+17|2016-05-25 03:58:07|    0.0|   0.0|     0.0|ethereum price te...|  neutral|2016-05-25|\n",
      "|7.429599385788539...|2016-06-15 04:00:27|    0.0|   0.0|     0.0|ethereum price te...|  neutral|2016-06-15|\n",
      "|7.42961283285291e+17|2016-06-15 04:05:48|    0.0|   0.0|     0.0|ethereum price te...|  neutral|2016-06-15|\n",
      "|7.840162893584179...|2016-10-06 11:03:44|    0.0|   4.0|     2.0|first looked bitc...| positive|2016-10-06|\n",
      "|8.16631546207572e+17|2017-01-04 12:05:07|    0.0|   0.0|     0.0|                 cap|  neutral|2017-01-04|\n",
      "|8.250705460188283...|2017-01-27 19:58:41|   19.0| 267.0|   155.0|central banking c...|  neutral|2017-01-27|\n",
      "|8.67473355905151e+17|2017-05-24 18:12:19|    1.0|   2.0|     0.0|broke ea thanks j...| positive|2017-05-24|\n",
      "|8.679000153892864...|2017-05-25 22:27:43|    0.0|   1.0|     0.0|provide everythin...|  neutral|2017-05-25|\n",
      "|8.719132959802245...|2017-06-06 00:15:03|    0.0|  11.0|     9.0|       new time high| positive|2017-06-06|\n",
      "|8.920610651896996...|2017-07-31 14:35:06|    2.0|   6.0|     2.0|well temporary st...|  neutral|2017-07-31|\n",
      "|8.954375816383488...|2017-08-09 22:12:10|    0.0|   1.0|     0.0|block time size b...|  neutral|2017-08-09|\n",
      "|9.06181724786352e+17|2017-09-08 15:45:33|    3.0|   5.0|     3.0|china sink bitcoi...| positive|2017-09-08|\n",
      "|9.198481184300564...|2017-10-16 08:50:56|   76.0|1746.0|   582.0|  something new live| positive|2017-10-16|\n",
      "|9.358629539534234...|2017-11-29 12:28:10|    3.0| 130.0|    93.0|cryptos going off...| positive|2017-11-29|\n",
      "|9.359975208362108...|2017-11-29 21:22:53|    0.0|   0.0|     0.0|stupidly listened...| negative|2017-11-29|\n",
      "|9.376235208210884...|2017-12-04 09:04:02|    0.0|   0.0|     0.0|             welcome| positive|2017-12-04|\n",
      "|9.376240054015631...|2017-12-04 09:05:57|    0.0|   0.0|     0.0|             welcome| positive|2017-12-04|\n",
      "|9.400088526192352...|2017-12-10 23:02:29|    0.0|   1.0|     3.0|australia sold au...|  neutral|2017-12-10|\n",
      "+--------------------+-------------------+-------+------+--------+--------------------+---------+----------+\n",
      "only showing top 20 rows\n",
      "\n"
     ]
    }
   ],
   "source": [
    "def analyze_sentiment(text):\n",
    "    polarity = TextBlob(text).sentiment.polarity\n",
    "    \n",
    "    if polarity > 0:\n",
    "        return 'positive'\n",
    "    elif polarity < 0:\n",
    "        return 'negative'\n",
    "    else:\n",
    "        return 'neutral'\n",
    "\n",
    "sentiment_udf = F.udf(analyze_sentiment, F.StringType())\n",
    "\n",
    "df = df.withColumn(\"sentiment\", sentiment_udf(df[\"lemmatized_text\"]))\n",
    "\n",
    "df = df.filter(F.col(\"lemmatized_text\").isNotNull())\n",
    "\n",
    "df = df.withColumn(\"date\", F.date_format(\"timestamp\", \"yyyy-MM-dd\"))\n",
    "\n",
    "df.show()"
   ]
  },
  {
   "cell_type": "markdown",
   "metadata": {
    "application/vnd.databricks.v1+cell": {
     "cellMetadata": {},
     "inputWidgets": {},
     "nuid": "ed13b49b-1119-472c-a368-9abeaab43a55",
     "showTitle": false,
     "tableResultSettingsMap": {},
     "title": ""
    }
   },
   "source": [
    "The analyze_sentiment function takes a text as input and a TextBlob object is created for the input text.\n",
    "The polarity of the text is determined and the corresponding sentiment is returned: positive if the polarity is greater than 0; negative if the polarity is less than 0 and neutral if the polarity is equal to 0.\n",
    "The analyze_sentiment function is registered as a User-Defined Function (UDF) to be used with Spark DataFrame. The UDF is applied to the DataFrame to create a new \"sentiment\" column containing the result of the sentiment analysis for each row. The rows that have a null lemmatized_text are filtered.\n",
    "A new date column in the format \"yyyy-MM-dd\" is created from the \"timestamp\" column. The updated DataFrame with the new \"sentiment\" column is displayed.\n"
   ]
  },
  {
   "cell_type": "markdown",
   "metadata": {
    "application/vnd.databricks.v1+cell": {
     "cellMetadata": {},
     "inputWidgets": {},
     "nuid": "bee047a5-da71-495a-81a3-f0cc90c7302b",
     "showTitle": false,
     "tableResultSettingsMap": {},
     "title": ""
    }
   },
   "source": [
    "**5. Sentiment Change Day by Day**"
   ]
  },
  {
   "cell_type": "code",
   "execution_count": 0,
   "metadata": {
    "application/vnd.databricks.v1+cell": {
     "cellMetadata": {
      "byteLimit": 2048000,
      "rowLimit": 10000
     },
     "inputWidgets": {},
     "nuid": "d164abf8-39eb-493b-9c6a-1ae76876f2e7",
     "showTitle": false,
     "tableResultSettingsMap": {},
     "title": ""
    }
   },
   "outputs": [
    {
     "name": "stdout",
     "output_type": "stream",
     "text": [
      "+----------+---------+-----+\n",
      "|      date|sentiment|count|\n",
      "+----------+---------+-----+\n",
      "|2009-01-11|  neutral|    1|\n",
      "|2012-08-02| positive|    1|\n",
      "|2012-09-20|  neutral|    1|\n",
      "|2012-11-17|  neutral|    1|\n",
      "|2013-08-16| positive|    1|\n",
      "|2013-12-09|  neutral|    1|\n",
      "|2013-12-19|  neutral|    1|\n",
      "|2013-12-20|  neutral|    1|\n",
      "|2014-02-20| positive|    1|\n",
      "|2014-07-12|  neutral|    1|\n",
      "|2014-08-01|  neutral|    1|\n",
      "|2014-10-03|  neutral|    1|\n",
      "|2014-12-12|  neutral|    1|\n",
      "|2015-02-14|  neutral|    1|\n",
      "|2015-09-02| positive|    1|\n",
      "|2015-10-21|  neutral|    1|\n",
      "|2015-11-19| positive|    1|\n",
      "|2016-02-19|  neutral|    1|\n",
      "|2016-03-28|  neutral|    3|\n",
      "|2016-05-03|  neutral|    2|\n",
      "+----------+---------+-----+\n",
      "only showing top 20 rows\n",
      "\n"
     ]
    }
   ],
   "source": [
    "daily_sentiment = df.groupBy(\"date\", \"sentiment\").count().orderBy(\"date\")\n",
    "\n",
    "daily_sentiment.show()"
   ]
  },
  {
   "cell_type": "markdown",
   "metadata": {
    "application/vnd.databricks.v1+cell": {
     "cellMetadata": {},
     "inputWidgets": {},
     "nuid": "1eb45288-9b32-42ee-8d20-2783a1e0f1c9",
     "showTitle": false,
     "tableResultSettingsMap": {},
     "title": ""
    }
   },
   "source": [
    "The DataFrame is grouped by the date and sentiment columns. The sentiment count is calculated for each combination of date and sentiment. The results are sorted by date. Shows the resulting DataFrame with the sentiment count by date and sentiment type, providing a detailed overview of the sentiment trend over time."
   ]
  },
  {
   "cell_type": "markdown",
   "metadata": {
    "application/vnd.databricks.v1+cell": {
     "cellMetadata": {},
     "inputWidgets": {},
     "nuid": "dc0c376c-460c-49c4-973a-0b37f13ba6da",
     "showTitle": false,
     "tableResultSettingsMap": {},
     "title": ""
    }
   },
   "source": [
    "**6. Depiction of the Evolution of Public Sentiment towards Bitcoin**"
   ]
  },
  {
   "cell_type": "code",
   "execution_count": 0,
   "metadata": {
    "application/vnd.databricks.v1+cell": {
     "cellMetadata": {
      "byteLimit": 2048000,
      "rowLimit": 10000
     },
     "inputWidgets": {},
     "nuid": "22e95f96-b565-40b0-95db-1e5fbe0b3b8b",
     "showTitle": false,
     "tableResultSettingsMap": {},
     "title": ""
    }
   },
   "outputs": [
    {
     "data": {
      "image/png": "[encoded data removed]",
      "text/plain": [
       "<Figure size 1800x1200 with 1 Axes>"
      ]
     },
     "metadata": {},
     "output_type": "display_data"
    }
   ],
   "source": [
    "import pandas as pd\n",
    "import matplotlib.pyplot as plt\n",
    "import seaborn as sns\n",
    "import matplotlib.dates as mdates\n",
    "\n",
    "pdf = daily_sentiment.toPandas()\n",
    "\n",
    "pdf['date'] = pd.to_datetime(pdf['date'])\n",
    "pdf.set_index('date', inplace=True)\n",
    "\n",
    "lower_bound = pdf['count'].quantile(0.01)  \n",
    "upper_bound = pdf['count'].quantile(0.99)  \n",
    "pdf_filtered = pdf[(pdf['count'] >= lower_bound) & (pdf['count'] <= upper_bound)]\n",
    "\n",
    "pdf_monthly = pdf_filtered.groupby([pd.Grouper(freq='M'), 'sentiment'])['count'].mean().reset_index()\n",
    "\n",
    "custom_colors = {'neutral': 'gray', 'positive': 'green', 'negative': 'red'}\n",
    "\n",
    "palette = [custom_colors[sentiment] for sentiment in pdf_filtered['sentiment'].unique()]\n",
    "\n",
    "plt.figure(figsize=(18, 12))\n",
    "\n",
    "sns.lineplot(data=pdf_monthly, x=\"date\", y=\"count\", hue=\"sentiment\", palette=custom_colors, linewidth=2)\n",
    "\n",
    "plt.gca().xaxis.set_major_locator(mdates.YearLocator())\n",
    "plt.gca().xaxis.set_major_formatter(mdates.DateFormatter('%Y'))\n",
    "\n",
    "plt.xticks(pd.date_range(pdf_monthly['date'].min(), pdf_monthly['date'].max(), freq='YS'), rotation=45)\n",
    "\n",
    "plt.title('Bitcoin Tweet Sentiment Change', fontsize=16)\n",
    "plt.xlabel('Data', fontsize=14)\n",
    "plt.ylabel('Tweet Count (average)', fontsize=14)\n",
    "\n",
    "handles, labels = plt.gca().get_legend_handles_labels()\n",
    "plt.legend(handles, ['Neutral', 'Positive', 'Negative'], title='Sentiment', fontsize=12)\n",
    "\n",
    "plt.yscale('log')\n",
    "\n",
    "plt.grid(True, which='both', linestyle='--', linewidth=0.5)\n",
    "\n",
    "plt.show()"
   ]
  },
  {
   "cell_type": "markdown",
   "metadata": {
    "application/vnd.databricks.v1+cell": {
     "cellMetadata": {},
     "inputWidgets": {},
     "nuid": "b17e017a-52f6-4566-adf5-ad80cbd82436",
     "showTitle": false,
     "tableResultSettingsMap": {},
     "title": ""
    }
   },
   "source": [
    "**7. Analysis of Engagement generated by Tweets**"
   ]
  },
  {
   "cell_type": "code",
   "execution_count": 0,
   "metadata": {
    "application/vnd.databricks.v1+cell": {
     "cellMetadata": {
      "byteLimit": 2048000,
      "rowLimit": 10000
     },
     "inputWidgets": {},
     "nuid": "d44a5292-b5d9-45a1-8dbb-65598bb06e48",
     "showTitle": false,
     "tableResultSettingsMap": {},
     "title": ""
    }
   },
   "outputs": [
    {
     "name": "stdout",
     "output_type": "stream",
     "text": [
      "+---------+------------------+------------------+------------------+------------------+\n",
      "|sentiment|         avg_likes|      stddev_likes|       avg_replies|    stddev_replies|\n",
      "+---------+------------------+------------------+------------------+------------------+\n",
      "| positive| 9.740014358438845| 89.12527080084162|1.3611147369795067| 21.50804248497393|\n",
      "|  neutral| 5.959068046482049|103.02756612005871| 0.576169277909464| 9.406764428611954|\n",
      "| negative|11.556170028193451|110.29360330027484| 1.242788982867057|11.374830497168697|\n",
      "+---------+------------------+------------------+------------------+------------------+\n",
      "\n"
     ]
    }
   ],
   "source": [
    "interactions_stats = df.groupBy(\"sentiment\").agg(\n",
    "    F.avg(\"likes\").alias(\"avg_likes\"),\n",
    "    F.stddev(\"likes\").alias(\"stddev_likes\"), \n",
    "    F.avg(\"replies\").alias(\"avg_replies\"),\n",
    "    F.stddev(\"replies\").alias(\"stddev_replies\") \n",
    ")\n",
    "\n",
    "interactions_stats.show()"
   ]
  },
  {
   "cell_type": "markdown",
   "metadata": {
    "application/vnd.databricks.v1+cell": {
     "cellMetadata": {},
     "inputWidgets": {},
     "nuid": "c7d68d1a-5080-4594-ad31-aa25a363bcd1",
     "showTitle": false,
     "tableResultSettingsMap": {},
     "title": ""
    }
   },
   "source": [
    "**Did negative tweets get more likes than positive tweets?**\n",
    "\n",
    "Negative tweets showed higher average of likes than positive tweets. It is important to note that the standard deviation for likes for negative tweets is significantly higher than that for positive tweets. This indicates that while negative tweets got more likes on average, there is also more variability in the like results for these tweets than for positive tweets.\n",
    "\n",
    "**Did negative tweets get more interactions than positive tweets?**\n",
    "\n",
    "Positive tweets showed a slightly higher average of replies than negative tweets. However, the difference is small. The standard deviation of replies for negative tweets is lower than that for positive tweets, indicating that responses to negative tweets are less variable than to positive tweets."
   ]
  },
  {
   "cell_type": "markdown",
   "metadata": {
    "application/vnd.databricks.v1+cell": {
     "cellMetadata": {},
     "inputWidgets": {},
     "nuid": "79b6d3ae-6be2-4d03-b3ba-2b914f98249e",
     "showTitle": false,
     "tableResultSettingsMap": {},
     "title": ""
    }
   },
   "source": [
    "**8. Relationship between Sentiment Change and Bitcoin Value Change**"
   ]
  },
  {
   "cell_type": "code",
   "execution_count": 0,
   "metadata": {
    "application/vnd.databricks.v1+cell": {
     "cellMetadata": {
      "byteLimit": 2048000,
      "rowLimit": 10000
     },
     "inputWidgets": {},
     "nuid": "0197cf14-6399-4772-85ee-fc645ab9f4e0",
     "showTitle": false,
     "tableResultSettingsMap": {},
     "title": ""
    }
   },
   "outputs": [
    {
     "name": "stdout",
     "output_type": "stream",
     "text": [
      "+-----+----------+\n",
      "|price|      date|\n",
      "+-----+----------+\n",
      "| 0.09|2010-07-18|\n",
      "| 0.08|2010-07-19|\n",
      "| 0.07|2010-07-20|\n",
      "| 0.08|2010-07-21|\n",
      "| 0.05|2010-07-22|\n",
      "| 0.06|2010-07-23|\n",
      "| 0.05|2010-07-24|\n",
      "| 0.05|2010-07-25|\n",
      "| 0.06|2010-07-26|\n",
      "| 0.06|2010-07-27|\n",
      "| 0.06|2010-07-28|\n",
      "| 0.07|2010-07-29|\n",
      "| 0.06|2010-07-30|\n",
      "| 0.07|2010-07-31|\n",
      "| 0.06|2010-08-01|\n",
      "| 0.06|2010-08-02|\n",
      "| 0.06|2010-08-03|\n",
      "| 0.06|2010-08-04|\n",
      "| 0.06|2010-08-05|\n",
      "| 0.06|2010-08-06|\n",
      "+-----+----------+\n",
      "only showing top 20 rows\n",
      "\n"
     ]
    }
   ],
   "source": [
    "price_schema = T.StructType([\n",
    "T.StructField(\"timestamp\", T.TimestampType(), True),\n",
    "T.StructField(\"price\", T.FloatType(), True)\n",
    "])\n",
    "\n",
    "price_df = spark.read \\\n",
    ".option(\"header\", \"true\") \\\n",
    ".option(\"multiLine\", \"true\") \\\n",
    ".schema(price_schema) \\\n",
    ".csv(\"/FileStore/tables/Bitcoin_price_USD.csv\")\n",
    "\n",
    "price_df = price_df.withColumn(\"date\", F.date_format(\"timestamp\", \"yyyy-MM-dd\")).drop(\"timestamp\")\n",
    "\n",
    "price_df.show()"
   ]
  },
  {
   "cell_type": "code",
   "execution_count": 0,
   "metadata": {
    "application/vnd.databricks.v1+cell": {
     "cellMetadata": {
      "byteLimit": 2048000,
      "rowLimit": 10000
     },
     "inputWidgets": {},
     "nuid": "3a5f6958-8cd9-43b9-85ef-631f6feef786",
     "showTitle": false,
     "tableResultSettingsMap": {},
     "title": ""
    }
   },
   "outputs": [
    {
     "name": "stdout",
     "output_type": "stream",
     "text": [
      "+----------+---------+-----+---------+\n",
      "|      date|sentiment|count|    price|\n",
      "+----------+---------+-----+---------+\n",
      "|2018-02-21| negative|    1| 10456.17|\n",
      "|2018-06-24| positive|    4|  6150.19|\n",
      "|2018-09-02|  neutral|    9| 7200.105|\n",
      "|2018-09-25| positive|    4| 6583.027|\n",
      "|2019-05-04|  neutral|   11|5812.3315|\n",
      "|2015-11-19| positive|    1|   326.31|\n",
      "|2017-06-06| positive|    1|  2914.08|\n",
      "|2018-07-26| negative|    1|  7929.61|\n",
      "|2018-08-26| positive|    6|  6707.63|\n",
      "|2018-12-05|  neutral|    1|3901.2253|\n",
      "|2019-03-13|  neutral|    4|3846.2744|\n",
      "|2018-11-24|  neutral|    1|  4287.81|\n",
      "|2019-01-12|  neutral|    2|3611.5283|\n",
      "|2018-11-22|  neutral|    2|  4536.72|\n",
      "|2018-12-10|  neutral|    1|3528.1296|\n",
      "|2019-05-03|  neutral|   14| 5697.679|\n",
      "|2018-04-09| positive|    1|  6773.94|\n",
      "|2018-06-23| positive|    1|  6170.56|\n",
      "|2018-10-15|  neutral|    7| 6341.381|\n",
      "|2017-01-27|  neutral|    1|   918.56|\n",
      "+----------+---------+-----+---------+\n",
      "only showing top 20 rows\n",
      "\n",
      "+---------+--------------------+\n",
      "|sentiment|         correlation|\n",
      "+---------+--------------------+\n",
      "| positive|0.024281095003039807|\n",
      "|  neutral| 0.01459819887244709|\n",
      "| negative|0.016486746671651828|\n",
      "+---------+--------------------+\n",
      "\n"
     ]
    }
   ],
   "source": [
    "joined_df = daily_sentiment.join(price_df, on=\"date\", how=\"inner\")\n",
    "joined_df.show()\n",
    "\n",
    "correlation_df = joined_df.groupBy(\"sentiment\").agg(\n",
    "corr(\"count\", \"price\").alias(\"correlation\")\n",
    ")\n",
    "correlation_df.show()"
   ]
  },
  {
   "cell_type": "markdown",
   "metadata": {
    "application/vnd.databricks.v1+cell": {
     "cellMetadata": {},
     "inputWidgets": {},
     "nuid": "78f79ab1-00a4-466e-b1fc-fa383589583f",
     "showTitle": false,
     "tableResultSettingsMap": {},
     "title": ""
    }
   },
   "source": [
    "The data shows the correlation between tweet sentiment (positive, neutral, negative) and the price of Bitcoin. Here's what we can infer from this data: 1. Positive correlations: All three sentiments (positive, neutral, negative) show a positive correlation with the price of Bitcoin. This means that when the sentiment (regardless of whether it is positive, neutral, or negative) increases, there tends to be a related increase in the price of Bitcoin. 2. Correlation strength: The correlation value is similar across the different sentiments: positive, neutral, negative. This suggests that there is not a large difference in the strength of the correlation between the different types of sentiment. All three have a relatively modest correlation with the price of Bitcoin. 3. Results: The positive correlation indicates that tweet sentiment is generally in line with the price movements of Bitcoin. However, the correlation does not necessarily imply a direct causal relationship. It is possible that tweet sentiment reflects the overall market sentiment, thereby influencing or reacting to the price of Bitcoin. Other factors may simultaneously influence both tweet sentiment and the price of Bitcoin. The correlation may vary over time and may be influenced by external events. In summary, from the data provided it can be deduced that there is a positive correlation between the price of Bitcoin and tweet sentiment (both positive, neutral, and negative), indicating that changes in sentiment may be associated with changes in the price of Bitcoin."
   ]
  },
  {
   "cell_type": "markdown",
   "metadata": {
    "application/vnd.databricks.v1+cell": {
     "cellMetadata": {},
     "inputWidgets": {},
     "nuid": "353d6d2f-733c-4cda-8e87-c332fa2a381c",
     "showTitle": false,
     "tableResultSettingsMap": {},
     "title": ""
    }
   },
   "source": [
    "**9. Merging Sentiment Data with Bitcoin Price Data**"
   ]
  },
  {
   "cell_type": "code",
   "execution_count": 0,
   "metadata": {
    "application/vnd.databricks.v1+cell": {
     "cellMetadata": {
      "byteLimit": 2048000,
      "rowLimit": 10000
     },
     "inputWidgets": {},
     "nuid": "0f42fbb4-bdca-4947-ba11-60f504967a49",
     "showTitle": false,
     "tableResultSettingsMap": {},
     "title": ""
    }
   },
   "outputs": [
    {
     "name": "stdout",
     "output_type": "stream",
     "text": [
      "+----------+-------------+---------+\n",
      "|      date|avg_sentiment|    price|\n",
      "+----------+-------------+---------+\n",
      "|2017-12-05|          0.5| 11696.06|\n",
      "|2019-04-25|          0.5|5132.2275|\n",
      "|2018-12-31|          1.0|3689.5647|\n",
      "|2018-08-23|          0.0|  6525.61|\n",
      "|2018-04-11|          0.0|  6939.55|\n",
      "|2019-04-08|          0.5| 5260.205|\n",
      "|2018-12-17|          0.5|3199.1665|\n",
      "|2019-04-26|          0.5|5151.5747|\n",
      "|2018-05-15|          0.0|  8474.24|\n",
      "|2019-01-17|          0.5|3623.7173|\n",
      "|2018-12-20|          1.0| 3684.244|\n",
      "|2019-01-24|          0.5|3562.9204|\n",
      "|2018-12-22|          0.0|3838.2415|\n",
      "|2017-09-12|          1.0|  4148.27|\n",
      "|2018-05-03|         -0.5|  9734.67|\n",
      "|2018-10-10|          0.5| 6653.378|\n",
      "|2018-12-30|          0.5| 3684.244|\n",
      "|2018-06-22|          0.0|   6053.9|\n",
      "|2018-11-13|          0.5|6321.5645|\n",
      "|2018-08-24|          0.5|  6692.62|\n",
      "+----------+-------------+---------+\n",
      "only showing top 20 rows\n",
      "\n"
     ]
    }
   ],
   "source": [
    "conversion_expr = F.when(F.col(\"sentiment\") == \"positive\", 1) \\\n",
    "                    .when(F.col(\"sentiment\") == \"neutral\", 0) \\\n",
    "                    .when(F.col(\"sentiment\") == \"negative\", -1)\n",
    "\n",
    "daily_sentiment_avg = daily_sentiment.withColumn(\"numerical_sentiment\", conversion_expr) \\\n",
    "                                     .groupBy(\"date\") \\\n",
    "                                     .agg(F.avg(\"numerical_sentiment\").alias(\"avg_sentiment\"))\n",
    "\n",
    "joined_df = daily_sentiment_avg.join(price_df, on=\"date\", how=\"inner\")\n",
    "joined_df = joined_df.select(\"date\", \"avg_sentiment\", \"price\")\n",
    "joined_df.show()"
   ]
  },
  {
   "cell_type": "code",
   "execution_count": 0,
   "metadata": {
    "application/vnd.databricks.v1+cell": {
     "cellMetadata": {
      "byteLimit": 2048000,
      "rowLimit": 10000
     },
     "inputWidgets": {},
     "nuid": "15b0eece-1aed-4f47-a49d-cc60a3e1d879",
     "showTitle": false,
     "tableResultSettingsMap": {},
     "title": ""
    }
   },
   "outputs": [
    {
     "name": "stdout",
     "output_type": "stream",
     "text": [
      "+----------+-------------+------+------------------+----------+----------------+------------+\n",
      "|      date|avg_sentiment| price|prev_avg_sentiment|prev_price|sentiment_change|price_change|\n",
      "+----------+-------------+------+------------------+----------+----------------+------------+\n",
      "|2012-09-20|          0.0| 12.28|               1.0|     10.53|            -1.0|        1.75|\n",
      "|2012-11-17|          0.0| 11.79|               0.0|     12.28|             0.0| -0.48999977|\n",
      "|2013-08-16|          1.0| 98.33|               0.0|     11.79|             1.0|       86.54|\n",
      "|2013-12-09|          0.0|898.02|               1.0|     98.33|            -1.0|      799.69|\n",
      "|2013-12-19|          0.0|698.45|               0.0|    898.02|             0.0|     -199.57|\n",
      "|2013-12-20|          0.0|622.84|               0.0|    698.45|             0.0|  -75.609985|\n",
      "|2014-02-20|          1.0|552.21|               0.0|    622.84|             1.0|  -70.630005|\n",
      "|2014-07-12|          0.0|634.48|               1.0|    552.21|            -1.0|    82.26996|\n",
      "|2014-08-01|          0.0|595.08|               0.0|    634.48|             0.0|  -39.399963|\n",
      "|2014-10-03|          0.0|356.56|               0.0|    595.08|             0.0|  -238.52002|\n",
      "|2014-12-12|          0.0|350.94|               0.0|    356.56|             0.0|   -5.619995|\n",
      "|2015-02-14|          0.0|257.47|               0.0|    350.94|             0.0|      -93.47|\n",
      "|2015-09-02|          1.0|228.86|               0.0|    257.47|             1.0|      -28.61|\n",
      "|2015-10-21|          0.0|267.33|               1.0|    228.86|            -1.0|   38.469986|\n",
      "|2015-11-19|          1.0|326.31|               0.0|    267.33|             1.0|    58.98001|\n",
      "|2016-02-19|          0.0|420.33|               1.0|    326.31|            -1.0|    94.01999|\n",
      "|2016-03-28|          0.0|422.76|               0.0|    420.33|             0.0|   2.4300232|\n",
      "|2016-05-03|          0.0|450.27|               0.0|    422.76|             0.0|    27.50998|\n",
      "|2016-05-15|          1.0|457.85|               0.0|    450.27|             1.0|    7.580017|\n",
      "|2016-05-19|          0.0|436.73|               1.0|    457.85|            -1.0|  -21.119995|\n",
      "+----------+-------------+------+------------------+----------+----------------+------------+\n",
      "only showing top 20 rows\n",
      "\n"
     ]
    }
   ],
   "source": [
    "window_spec = Window.orderBy(\"date\")\n",
    "\n",
    "joined_df = joined_df.withColumn(\"prev_avg_sentiment\", F.lag(\"avg_sentiment\").over(window_spec))\n",
    "joined_df = joined_df.withColumn(\"prev_price\", F.lag(\"price\").over(window_spec))\n",
    "\n",
    "joined_df = joined_df.withColumn(\"sentiment_change\", F.col(\"avg_sentiment\") - F.col(\"prev_avg_sentiment\"))\n",
    "joined_df = joined_df.withColumn(\"price_change\", F.col(\"price\") - F.col(\"prev_price\"))\n",
    "\n",
    "joined_df = joined_df.filter(F.col(\"prev_avg_sentiment\").isNotNull() & F.col(\"prev_price\").isNotNull())\n",
    "\n",
    "joined_df.show()"
   ]
  },
  {
   "cell_type": "markdown",
   "metadata": {
    "application/vnd.databricks.v1+cell": {
     "cellMetadata": {},
     "inputWidgets": {},
     "nuid": "8dfb50e6-e837-4d62-b6b8-e3e91198ab8b",
     "showTitle": false,
     "tableResultSettingsMap": {},
     "title": ""
    }
   },
   "source": [
    "**10. Study of the Correlation between Sentiment and Bitcoin Price**"
   ]
  },
  {
   "cell_type": "code",
   "execution_count": 0,
   "metadata": {
    "application/vnd.databricks.v1+cell": {
     "cellMetadata": {
      "byteLimit": 2048000,
      "rowLimit": 10000
     },
     "inputWidgets": {},
     "nuid": "c4120036-e01e-474f-ad03-d1b811c3431a",
     "showTitle": false,
     "tableResultSettingsMap": {},
     "title": ""
    }
   },
   "outputs": [
    {
     "name": "stdout",
     "output_type": "stream",
     "text": [
      "Correlation between sentiment change and Bitcoin value change: 0.024635589197272368\n"
     ]
    }
   ],
   "source": [
    "correlation = joined_df.stat.corr(\"sentiment_change\", \"price_change\")\n",
    "\n",
    "print(f\"Correlation between sentiment change and Bitcoin value change: {correlation}\")"
   ]
  },
  {
   "cell_type": "markdown",
   "metadata": {
    "application/vnd.databricks.v1+cell": {
     "cellMetadata": {},
     "inputWidgets": {},
     "nuid": "0f65c08c-83ab-4d8f-84dc-dbe1935b1b80",
     "showTitle": false,
     "tableResultSettingsMap": {},
     "title": ""
    }
   },
   "source": [
    "This correlation shows a slight positive relationship between the change in sentiment and the change in the value of Bitcoin.\n",
    "\n",
    "This low value correlation (near zero) indicates that there is no significant or consistent relationship between the change in sentiment (likely measured via sentiment analysis on social media or other sources) and the change in the value of Bitcoin. While the sentiment of market participants may change (e.g., from positive to negative or vice versa), these changes have a slight effect on the price of Bitcoin."
   ]
  }
 ],
 "metadata": {
  "application/vnd.databricks.v1+notebook": {
   "dashboards": [],
   "environmentMetadata": null,
   "language": "python",
   "notebookMetadata": {
    "mostRecentlyExecutedCommandWithImplicitDF": {
     "commandId": 597330443036117,
     "dataframes": [
      "_sqldf"
     ]
    },
    "pythonIndentUnit": 4
   },
   "notebookName": "Project: Bitcoin Sentiment Analysis",
   "widgets": {}
  },
  "kernelspec": {
   "display_name": "Python 3 (ipykernel)",
   "language": "python",
   "name": "python3"
  },
  "language_info": {
   "codemirror_mode": {
    "name": "ipython",
    "version": 3
   },
   "file_extension": ".py",
   "mimetype": "text/x-python",
   "name": "python",
   "nbconvert_exporter": "python",
   "pygments_lexer": "ipython3",
   "version": "3.11.5"
  }
 },
 "nbformat": 4,
 "nbformat_minor": 1
}
